{
 "cells": [
  {
   "cell_type": "code",
   "execution_count": null,
   "metadata": {},
   "outputs": [
    {
     "name": "stdout",
     "output_type": "stream",
     "text": [
      " * Serving Flask app \"__main__\" (lazy loading)\n",
      " * Environment: production\n",
      "   WARNING: This is a development server. Do not use it in a production deployment.\n",
      "   Use a production WSGI server instead.\n",
      " * Debug mode: off\n"
     ]
    },
    {
     "name": "stderr",
     "output_type": "stream",
     "text": [
      " * Running on http://127.0.0.1:5000/ (Press CTRL+C to quit)\n",
      "127.0.0.1 - - [20/Sep/2020 21:19:26] \"\u001b[37mGET / HTTP/1.1\u001b[0m\" 200 -\n",
      "[2020-09-20 21:19:33,171] ERROR in app: Exception on /movie [GET]\n",
      "Traceback (most recent call last):\n",
      "  File \"C:\\Users\\Pratiksha\\Anaconda3\\lib\\site-packages\\flask\\app.py\", line 2447, in wsgi_app\n",
      "    response = self.full_dispatch_request()\n",
      "  File \"C:\\Users\\Pratiksha\\Anaconda3\\lib\\site-packages\\flask\\app.py\", line 1952, in full_dispatch_request\n",
      "    rv = self.handle_user_exception(e)\n",
      "  File \"C:\\Users\\Pratiksha\\Anaconda3\\lib\\site-packages\\flask\\app.py\", line 1821, in handle_user_exception\n",
      "    reraise(exc_type, exc_value, tb)\n",
      "  File \"C:\\Users\\Pratiksha\\Anaconda3\\lib\\site-packages\\flask\\_compat.py\", line 39, in reraise\n",
      "    raise value\n",
      "  File \"C:\\Users\\Pratiksha\\Anaconda3\\lib\\site-packages\\flask\\app.py\", line 1950, in full_dispatch_request\n",
      "    rv = self.dispatch_request()\n",
      "  File \"C:\\Users\\Pratiksha\\Anaconda3\\lib\\site-packages\\flask\\app.py\", line 1936, in dispatch_request\n",
      "    return self.view_functions[rule.endpoint](**req.view_args)\n",
      "  File \"<ipython-input-1-61806e5d47c4>\", line 41, in movie\n",
      "    '''\n",
      "NameError: name 'name' is not defined\n",
      "127.0.0.1 - - [20/Sep/2020 21:19:33] \"\u001b[35m\u001b[1mGET /movie HTTP/1.1\u001b[0m\" 500 -\n",
      "127.0.0.1 - - [20/Sep/2020 21:19:40] \"\u001b[33mGET /movie/Harry%20Potter%20and%20the%20Order%20of%20the%20Phoenix HTTP/1.1\u001b[0m\" 404 -\n"
     ]
    }
   ],
   "source": [
    "from flask import Flask, request, url_for\n",
    "from flask_pymongo import PyMongo\n",
    "from flask import request, jsonify\n",
    "from pymongo import MongoClient\n",
    "import pymongo\n",
    "import json\n",
    "import os\n",
    "\n",
    "#import pymongo\n",
    "\n",
    "app = Flask(__name__)\n",
    "app.config['MONGO_URI'] = \"mongodb://localhost:27017/test\"\n",
    "mongo = PyMongo(app)\n",
    "\n",
    "#myclient = pymongo.MongoClient(\"mongodb://localhost/:27017\")\n",
    "#mydb = myclient[\"test\"]\n",
    "#mycol = mydb[\"movies_Data\"]\n",
    "\n",
    "\n",
    "@app.route('/')\n",
    "def data():\n",
    "    return \"working fine !!!\"\n",
    "\n",
    "@app.route('/mm', methods=['GET'] )\n",
    "def get():\n",
    "    documents = mongo.db.movies_Data.find()\n",
    "    response = []\n",
    "    for document in documents:\n",
    "        document['_id'] = str(document['_id'])\n",
    "        response.append(document)\n",
    "    return json.dumps(response)\n",
    "\n",
    "\n",
    "@app.route('/movie/<name>')\n",
    "def movie(name):\n",
    "    movData = mongo.db.movies_Data.find_one({'name': 'Harry Potter and the Order of the Phoenix'})\n",
    "    return f'''\n",
    "      <h3>{name}</h3>\n",
    "      <p>{img}</p>\n",
    "      <p>{summary}</p>\n",
    "    '''\n",
    "\n",
    "#@app.route('/movie/<name>', methods=['GET'])\n",
    "#def FlaskVnenv_all():\n",
    "  #  return jsonify(movie)\n",
    "\n",
    "if __name__ == '__main__':\n",
    "    app.run()\n"
   ]
  },
  {
   "cell_type": "code",
   "execution_count": null,
   "metadata": {},
   "outputs": [],
   "source": []
  },
  {
   "cell_type": "code",
   "execution_count": null,
   "metadata": {},
   "outputs": [],
   "source": []
  },
  {
   "cell_type": "code",
   "execution_count": null,
   "metadata": {},
   "outputs": [],
   "source": []
  },
  {
   "cell_type": "code",
   "execution_count": null,
   "metadata": {},
   "outputs": [],
   "source": []
  }
 ],
 "metadata": {
  "kernelspec": {
   "display_name": "Python 3",
   "language": "python",
   "name": "python3"
  },
  "language_info": {
   "codemirror_mode": {
    "name": "ipython",
    "version": 3
   },
   "file_extension": ".py",
   "mimetype": "text/x-python",
   "name": "python",
   "nbconvert_exporter": "python",
   "pygments_lexer": "ipython3",
   "version": "3.7.0"
  }
 },
 "nbformat": 4,
 "nbformat_minor": 2
}
